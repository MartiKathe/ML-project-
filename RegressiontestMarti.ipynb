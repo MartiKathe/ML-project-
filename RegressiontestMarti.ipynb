{
 "cells": [
  {
   "cell_type": "code",
   "id": "initial_id",
   "metadata": {
    "collapsed": true,
    "ExecuteTime": {
<<<<<<< HEAD
     "end_time": "2025-02-07T10:05:34.528147Z",
     "start_time": "2025-02-07T10:05:34.355535Z"
    }
   },
   "source": "",
=======
     "end_time": "2025-02-07T09:54:31.394191Z",
     "start_time": "2025-02-07T09:54:31.155793Z"
    }
   },
   "source": "import numpy as np",
>>>>>>> 8c1d4bbc615fb562d7986ff8438d1fab8ca10614
   "outputs": [],
   "execution_count": 1
  },
  {
   "metadata": {
    "ExecuteTime": {
     "end_time": "2025-02-07T09:52:14.839274Z",
     "start_time": "2025-02-07T09:52:14.834447Z"
    }
   },
   "cell_type": "code",
   "source": "",
   "id": "79430abe32c4d30",
   "outputs": [
    {
     "name": "stdout",
     "output_type": "stream",
     "text": [
      "ciao\n"
     ]
    }
   ],
   "execution_count": 7
  },
  {
   "metadata": {
    "ExecuteTime": {
     "end_time": "2025-02-07T09:58:09.195749Z",
     "start_time": "2025-02-07T09:58:00.819201Z"
    }
   },
   "cell_type": "code",
   "source": "a=input(\"test\")",
   "id": "c05ffde9aa027fa",
   "outputs": [],
   "execution_count": 2
  },
  {
   "metadata": {
    "ExecuteTime": {
     "end_time": "2025-02-07T09:58:23.720426Z",
     "start_time": "2025-02-07T09:58:23.704380Z"
    }
   },
   "cell_type": "code",
   "source": "print(a)\n",
   "id": "ac5e02b4fb959bcb",
   "outputs": [
    {
     "name": "stdout",
     "output_type": "stream",
     "text": [
      "132\n"
     ]
    }
   ],
   "execution_count": 3
  }
 ],
 "metadata": {
  "kernelspec": {
   "display_name": "Python 3",
   "language": "python",
   "name": "python3"
  },
  "language_info": {
   "codemirror_mode": {
    "name": "ipython",
    "version": 2
   },
   "file_extension": ".py",
   "mimetype": "text/x-python",
   "name": "python",
   "nbconvert_exporter": "python",
   "pygments_lexer": "ipython2",
   "version": "2.7.6"
  }
 },
 "nbformat": 4,
 "nbformat_minor": 5
}
